{
 "cells": [
  {
   "cell_type": "code",
   "execution_count": 1,
   "metadata": {},
   "outputs": [],
   "source": [
    "import numpy as np \n",
    "import pandas as pd\n",
    "import matplotlib.pyplot as plt"
   ]
  },
  {
   "cell_type": "code",
   "execution_count": 6,
   "metadata": {},
   "outputs": [
    {
     "name": "stdout",
     "output_type": "stream",
     "text": [
      "np.zeros(4) : a = [0. 0. 0. 0.],a.shape = (4,), a datatype = float64\n",
      "np.zeros(4,) : a = [0. 0. 0. 0.],a.shape = (4,), a datatype = float64\n",
      "np.zeros(4,) : a = [0.89618023 0.32681677 0.81717589 0.692567  ],a.shape = (4,), a datatype = float64\n"
     ]
    }
   ],
   "source": [
    "a = np.zeros(4)\n",
    "print(f\"np.zeros(4) : a = {a},a.shape = {a.shape}, a datatype = {a.dtype}\")\n",
    "\n",
    "a = np.zeros((4,))\n",
    "print(f\"np.zeros(4,) : a = {a},a.shape = {a.shape}, a datatype = {a.dtype}\")\n",
    "\n",
    "a = np.random.random_sample(4)\n",
    "print(f\"np.zeros(4,) : a = {a},a.shape = {a.shape}, a datatype = {a.dtype}\")\n",
    "\n"
   ]
  },
  {
   "cell_type": "code",
   "execution_count": 10,
   "metadata": {},
   "outputs": [
    {
     "name": "stdout",
     "output_type": "stream",
     "text": [
      "np.arange(4.) :a = [0. 1. 2. 3.], shape = (4,), datatype = float64\n",
      "np.arange(4.) :a = [0.23334785 0.64695537 0.53431926 0.26322527], shape = (4,), datatype = float64\n"
     ]
    }
   ],
   "source": [
    "a = np.arange(4.)\n",
    "print(f\"np.arange(4.) :a = {a}, shape = {a.shape}, datatype = {a.dtype}\")\n",
    "\n",
    "a = np.random.rand(4)\n",
    "print(f\"np.arange(4.) :a = {a}, shape = {a.shape}, datatype = {a.dtype}\")\n"
   ]
  },
  {
   "cell_type": "code",
   "execution_count": 12,
   "metadata": {},
   "outputs": [
    {
     "name": "stdout",
     "output_type": "stream",
     "text": [
      "[0 1 2 3 4 5 6 7 8 9]\n",
      "a[2].shape: () a[2] = 2\n",
      "a[-1] = 9\n"
     ]
    }
   ],
   "source": [
    "a = np.arange(10)\n",
    "print(a)\n",
    "print(f\"a[2].shape: {a[2].shape} a[2] = {a[2]}\")\n",
    "print(f\"a[-1] = {a[-1]}\")\n",
    "\n"
   ]
  },
  {
   "cell_type": "code",
   "execution_count": 25,
   "metadata": {},
   "outputs": [
    {
     "name": "stdout",
     "output_type": "stream",
     "text": [
      "[ 1.  2.  3.  4.  5.  6.  7.  8.  9. 10.]\n",
      "a[2:7:1] = [3. 4. 5. 6. 7.]\n",
      "a[2:7:2] = [3. 5. 7.]\n"
     ]
    }
   ],
   "source": [
    "a = np.linspace(1,10,10)\n",
    "print(a)\n",
    "\n",
    "c = a[2:7:1]\n",
    "print(f\"a[2:7:1] = {c}\")\n",
    "\n",
    "c = a[2:7:2]\n",
    "print(f\"a[2:7:2] = {c}\")\n"
   ]
  },
  {
   "cell_type": "code",
   "execution_count": 30,
   "metadata": {},
   "outputs": [
    {
     "name": "stdout",
     "output_type": "stream",
     "text": [
      "[1. 2. 3. 4.]\n",
      "[-1. -2. -3. -4.]\n",
      "10.0\n",
      "2.5\n",
      "[ 1.  4.  9. 16.]\n"
     ]
    }
   ],
   "source": [
    "a = np.linspace(1,4,4)\n",
    "print(a)\n",
    "b = -a\n",
    "print(b)\n",
    "b = np.sum(a)\n",
    "print(b)\n",
    "b = np.mean(a)\n",
    "print(b)\n",
    "b = a**2 \n",
    "print(b)\n"
   ]
  },
  {
   "cell_type": "code",
   "execution_count": 33,
   "metadata": {},
   "outputs": [
    {
     "name": "stdout",
     "output_type": "stream",
     "text": [
      "[1. 2. 3. 4.]\n",
      "[1. 2. 3. 4.]\n",
      "[2. 4. 6. 8.]\n",
      "[ 5. 10. 15. 20.]\n"
     ]
    }
   ],
   "source": [
    "a = np.linspace(1,4,4)\n",
    "b = np.linspace(1,4,4)\n",
    "print(a)\n",
    "print(b)\n",
    "c = a+b \n",
    "print(c)\n",
    "d = 5\n",
    "e  = a*d\n",
    "print(e)"
   ]
  },
  {
   "cell_type": "code",
   "execution_count": 34,
   "metadata": {},
   "outputs": [
    {
     "name": "stdout",
     "output_type": "stream",
     "text": [
      "24\n"
     ]
    }
   ],
   "source": [
    "#Dot product\n",
    "\n",
    "def dot_product(a,b):\n",
    "    x = 0\n",
    "    for i in range(a.shape[0]):\n",
    "        x = x + a[i]*b[i]\n",
    "    return x \n",
    "\n",
    "a = np.array([1,2,3,4])\n",
    "b = np.array([-1,4,3,2])\n",
    "c =  dot_product(a,b)\n",
    "print(c)\n"
   ]
  },
  {
   "cell_type": "code",
   "execution_count": 35,
   "metadata": {},
   "outputs": [
    {
     "name": "stdout",
     "output_type": "stream",
     "text": [
      "24\n"
     ]
    }
   ],
   "source": [
    "a = np.array([1,2,3,4])\n",
    "b = np.array([-1,4,3,2])\n",
    "c = np.dot(a,b)\n",
    "print(c)"
   ]
  },
  {
   "cell_type": "code",
   "execution_count": null,
   "metadata": {},
   "outputs": [],
   "source": []
  }
 ],
 "metadata": {
  "kernelspec": {
   "display_name": "Python 3",
   "language": "python",
   "name": "python3"
  },
  "language_info": {
   "codemirror_mode": {
    "name": "ipython",
    "version": 3
   },
   "file_extension": ".py",
   "mimetype": "text/x-python",
   "name": "python",
   "nbconvert_exporter": "python",
   "pygments_lexer": "ipython3",
   "version": "3.10.11"
  },
  "orig_nbformat": 4
 },
 "nbformat": 4,
 "nbformat_minor": 2
}
