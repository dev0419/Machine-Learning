{
 "cells": [
  {
   "cell_type": "code",
   "execution_count": 1,
   "metadata": {},
   "outputs": [],
   "source": [
    "import numpy as np \n",
    "import matplotlib.pyplot as plt \n",
    "from utils import *"
   ]
  },
  {
   "cell_type": "code",
   "execution_count": 2,
   "metadata": {},
   "outputs": [],
   "source": [
    "def find_closest_centroid(X,centroids):\n",
    "    K = centroids.shape[0]\n",
    "    idx = np.zeros(X.shape[0],dtype=int)\n",
    "    for i in range(X.shape[0]):\n",
    "        distance = []\n",
    "        for j in range(centroids.shape[0]):\n",
    "            norm_ij  = np.linalg.norm(X[i] - centroids[j])\n",
    "            distance.append(norm_ij)\n",
    "        idx[i] = np.argmin(distance)\n",
    "    return idx "
   ]
  },
  {
   "cell_type": "code",
   "execution_count": 3,
   "metadata": {},
   "outputs": [],
   "source": [
    "X = load_data()"
   ]
  },
  {
   "cell_type": "code",
   "execution_count": 6,
   "metadata": {},
   "outputs": [
    {
     "name": "stdout",
     "output_type": "stream",
     "text": [
      "First three elements in idx:[0 2 1]\n"
     ]
    }
   ],
   "source": [
    "init_centroids = np.array([[3,3],[6,2],[8,5]])\n",
    "idx = find_closest_centroid(X,init_centroids)\n",
    "print(f\"First three elements in idx:{idx[:3]}\")"
   ]
  },
  {
   "cell_type": "code",
   "execution_count": 7,
   "metadata": {},
   "outputs": [],
   "source": [
    "def compute_centroids(X,idx,K):\n",
    "    m,n = X.shape\n",
    "    centroids = np.zeros((K,n))\n",
    "    for k in range(K):\n",
    "        points = X[idx == k]\n",
    "        centroids[k] = np.mean(points,axis=0)\n",
    "    return centroids"
   ]
  },
  {
   "cell_type": "code",
   "execution_count": 8,
   "metadata": {},
   "outputs": [
    {
     "name": "stdout",
     "output_type": "stream",
     "text": [
      "The centroids are: [[2.42830111 3.15792418]\n",
      " [5.81350331 2.63365645]\n",
      " [7.11938687 3.6166844 ]]\n"
     ]
    }
   ],
   "source": [
    "K = 3\n",
    "centroids = compute_centroids(X,idx,K)\n",
    "print(f\"The centroids are: {centroids}\")"
   ]
  },
  {
   "cell_type": "code",
   "execution_count": 9,
   "metadata": {},
   "outputs": [],
   "source": [
    "def plot_data_points(X,idx):\n",
    "    cmap = ListedColormap(['red','blue','green'])\n",
    "    c = cmap(idx)\n",
    "    plt.scatter(X[:,0],X[:,1],facecolors='none',edgecolors=c,linewidth=0.1,alpha=0.7)\n",
    "\n",
    "def draw_line(p1, p2, style=\"-k\", linewidth=1):\n",
    "    plt.plot([p1[0], p2[0]], [p1[1], p2[1]], style, linewidth=linewidth)\n",
    "\n",
    "def plot_progress_kMeans(X,centroids,previous_centroids,K,i):\n",
    "    plot_data_points(X,idx)\n",
    "    plt.scatter(centroids[:,0],centroids[:,1],marker='x',c='k',linewidths=3)\n",
    "    for j in range(centroids.shape[0]):\n",
    "        draw_line(centroids[j, :], previous_centroids[j, :])\n",
    "    plt.title(\"Iteration number %d\" %i)"
   ]
  },
  {
   "cell_type": "code",
   "execution_count": null,
   "metadata": {},
   "outputs": [],
   "source": [
    "def run_Kmeans()"
   ]
  }
 ],
 "metadata": {
  "kernelspec": {
   "display_name": "Python 3",
   "language": "python",
   "name": "python3"
  },
  "language_info": {
   "codemirror_mode": {
    "name": "ipython",
    "version": 3
   },
   "file_extension": ".py",
   "mimetype": "text/x-python",
   "name": "python",
   "nbconvert_exporter": "python",
   "pygments_lexer": "ipython3",
   "version": "3.10.11"
  }
 },
 "nbformat": 4,
 "nbformat_minor": 2
}
